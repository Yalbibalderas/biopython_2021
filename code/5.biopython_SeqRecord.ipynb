{
 "cells": [
  {
   "cell_type": "markdown",
   "metadata": {},
   "source": [
    "## SeqRecord\n",
    "\n",
    "La clase Seq es importante porque almacena el sujeto principal de estudio en la bioinformática: la secuencia. Algunas veces necesitamos más información que la pura secuencia, como nombre, id, descripción, referencia a otras bases de datos externas y anotaciones. Para toda la información relacionada con la secuencia, está la clase **SeqRecord**. En otras palabras **SeqRecord** es un objeto Seq con metadatos asociados. "
   ]
  },
  {
   "cell_type": "code",
   "execution_count": 1,
   "metadata": {},
   "outputs": [],
   "source": [
    "from Bio.Seq import Seq"
   ]
  },
  {
   "cell_type": "code",
   "execution_count": 4,
   "metadata": {},
   "outputs": [
    {
     "data": {
      "text/plain": [
       "Seq('CCGGGTTTA')"
      ]
     },
     "execution_count": 4,
     "metadata": {},
     "output_type": "execute_result"
    }
   ],
   "source": [
    "seq = Seq('CCGGGTTTA')\n",
    "seq"
   ]
  },
  {
   "cell_type": "code",
   "execution_count": 5,
   "metadata": {},
   "outputs": [],
   "source": [
    "from Bio.SeqRecord import SeqRecord"
   ]
  },
  {
   "cell_type": "code",
   "execution_count": 7,
   "metadata": {},
   "outputs": [
    {
     "data": {
      "text/plain": [
       "SeqRecord(seq=Seq('CCGGGTTTA'), id='001', name='MHC gene', description='<unknown description>', dbxrefs=[])"
      ]
     },
     "execution_count": 7,
     "metadata": {},
     "output_type": "execute_result"
    }
   ],
   "source": [
    "SeqRecord(seq, id='001', name='MHC gene')"
   ]
  },
  {
   "cell_type": "markdown",
   "metadata": {},
   "source": [
    "SeqRecord tiene dos atributos principales:\n",
    "\n",
    "* **id**    Una cadena con un identificador. Este atributo es opcional pero altamente recomendado\n",
    "* **seq**   Un objeto Seq. Este atributo es requerido. \n",
    "\n",
    "Hay algunos atributos adicionales:\n",
    "\n",
    "* **name**     Una cadena con el nombre de la secuencia\n",
    "* **description**     Una cadena con más información\n",
    "* **dbxrefs**     Una lista de cadenas; cada cadena es un id de referencia cruzada con una base de datos\n",
    "* **features**     Una lista de objetos SeqFeature. Esto representa aquellas características de secuencias encontradas en los registros de Genbank. Este atributo se llena cuando se obtiene una secuencia de un archivo GenBank. Contiene la ubicación de la secuencia, tipo, strand y otras variables. "
   ]
  },
  {
   "cell_type": "markdown",
   "metadata": {},
   "source": [
    "Ahora vamos a crear un objeto SeqRecord desde cero"
   ]
  },
  {
   "cell_type": "code",
   "execution_count": 11,
   "metadata": {},
   "outputs": [
    {
     "data": {
      "text/plain": [
       "SeqRecord(seq=Seq('mdstnvrsgmksrkkkpkttvidddddcmtcsacqsklvkisditkvsldyint...kll'), id='P20994', name='P20994', description='Protein A19', dbxrefs=['Pfam:PF05077', 'Interpro:IPR007769', 'DIP:2186N'])"
      ]
     },
     "execution_count": 11,
     "metadata": {},
     "output_type": "execute_result"
    }
   ],
   "source": [
    "rec = SeqRecord(Seq('mdstnvrsgmksrkkkpkttvidddddcmtcsacqs'\n",
    "                    'klvkisditkvsldyintmrgntlacaacgsslkll'), \n",
    "                id='P20994', name='P20994', description='Protein A19', \n",
    "                dbxrefs=['Pfam:PF05077', 'Interpro:IPR007769', 'DIP:2186N'])\n",
    "rec"
   ]
  },
  {
   "cell_type": "code",
   "execution_count": 12,
   "metadata": {},
   "outputs": [],
   "source": [
    "rec.annotations['note'] = 'Una nota cualquiera'"
   ]
  },
  {
   "cell_type": "code",
   "execution_count": 14,
   "metadata": {},
   "outputs": [
    {
     "name": "stdout",
     "output_type": "stream",
     "text": [
      "ID: P20994\n",
      "Name: P20994\n",
      "Description: Protein A19\n",
      "Database cross-references: Pfam:PF05077, Interpro:IPR007769, DIP:2186N\n",
      "Number of features: 0\n",
      "/note=Una nota cualquiera\n",
      "Seq('mdstnvrsgmksrkkkpkttvidddddcmtcsacqsklvkisditkvsldyint...kll')\n"
     ]
    }
   ],
   "source": [
    "print(rec)"
   ]
  },
  {
   "cell_type": "code",
   "execution_count": 39,
   "metadata": {},
   "outputs": [],
   "source": []
  }
 ],
 "metadata": {
  "kernelspec": {
   "display_name": "Python 3",
   "language": "python",
   "name": "python3"
  },
  "language_info": {
   "codemirror_mode": {
    "name": "ipython",
    "version": 3
   },
   "file_extension": ".py",
   "mimetype": "text/x-python",
   "name": "python",
   "nbconvert_exporter": "python",
   "pygments_lexer": "ipython3",
   "version": "3.8.8"
  }
 },
 "nbformat": 4,
 "nbformat_minor": 4
}
