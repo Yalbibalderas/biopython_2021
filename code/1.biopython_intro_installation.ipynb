{
 "cells": [
  {
   "cell_type": "markdown",
   "metadata": {},
   "source": [
    "# Python for bioinformatics: Biopython\n",
    "\n",
    "Biopython (http://www.biopython.org) es un paquete con módulos para desarrollar aplicaciones bioinformáticas. Es una iniciativa de Jeff Chang y Andrew Dalke, pero muchos desarrolladores se han sumado al proyecto como Brad Chapman, Peter Cock,  Michiel de Hoon e Iddo Friedberg. Biopython fue inspirado en BioPerl y se liberó en el 2000 (hace 10 años!!), forma parte de la familia de proyectos open-bio (http://www.openbio.org) que forma parte de la Open Bioinformatics Foundation. El código es de dominio público (https://github.com/biophython/biophyton), y es posible contribuir (http://biopython.org/wiki/Contributing). La licencia de Biopython es muy liberal y prácticamente no tiene restricciones de uso. \n",
    "\n",
    "Todos los materiales que vienen a continuación los pueden encontrar en: https://github.com/Serulab/Py4Bio, son parte del libro: Python for Bioinformatics (Sebastian Bassi)."
   ]
  },
  {
   "cell_type": "markdown",
   "metadata": {},
   "source": [
    "## Instalación"
   ]
  },
  {
   "cell_type": "code",
   "execution_count": null,
   "metadata": {},
   "outputs": [],
   "source": [
    "# Si quieren crear un ambiente virtual, https://www.geeksforgeeks.org/python-virtual-environment/\n",
    "# Si están en terminal macOs/linux:\n",
    "\n",
    "pip install virtualenv\n",
    "pip install --upgrade pip\n",
    "\n",
    "virtualenv py4biovirtualenv                            # crea un ambiente virtual\n",
    ". ppy4biovirtualenv/bin/activate                       # para activar el ambiente"
   ]
  },
  {
   "cell_type": "code",
   "execution_count": null,
   "metadata": {},
   "outputs": [],
   "source": [
    "# Si están usando la terminal de Anaconda:\n",
    "\n",
    "conda create -n biopy python                           # crea un ambiente virtual\n",
    "conda info --envs                                      # muestra los ambientes\n",
    "source activate /Users/yalbi/anaconda3/envs/biopy      # para activar el ambiente\n",
    "source deactivate                                      # para desactivar el ambiente"
   ]
  },
  {
   "cell_type": "markdown",
   "metadata": {},
   "source": [
    "Si tienen Windows pueden revisar este link: https://biopython.org/wiki/64-bit_Windows_Biopython\n",
    "\n"
   ]
  },
  {
   "cell_type": "code",
   "execution_count": 9,
   "metadata": {},
   "outputs": [],
   "source": [
    "pip install numpy                                      # se instala dentro del ambiente"
   ]
  },
  {
   "cell_type": "code",
   "execution_count": 10,
   "metadata": {},
   "outputs": [
    {
     "name": "stdout",
     "output_type": "stream",
     "text": [
      "Requirement already satisfied: biopython in /Users/yalbi/anaconda3/lib/python3.7/site-packages (1.76)\n",
      "Requirement already satisfied: numpy in /Users/yalbi/anaconda3/lib/python3.7/site-packages (from biopython) (1.17.4)\n",
      "Note: you may need to restart the kernel to use updated packages.\n"
     ]
    }
   ],
   "source": [
    "pip install biopython                                  # se instala dentro del ambiente"
   ]
  },
  {
   "cell_type": "code",
   "execution_count": 11,
   "metadata": {},
   "outputs": [],
   "source": [
    "pip install --upgrade biopython"
   ]
  },
  {
   "cell_type": "markdown",
   "metadata": {},
   "source": [
    "Para más información sobre la instalación: https://github.com/biopython/biopython/blob/master/README.rst"
   ]
  },
  {
   "cell_type": "code",
   "execution_count": null,
   "metadata": {},
   "outputs": [],
   "source": []
  }
 ],
 "metadata": {
  "kernelspec": {
   "display_name": "Python 3",
   "language": "python",
   "name": "python3"
  },
  "language_info": {
   "codemirror_mode": {
    "name": "ipython",
    "version": 3
   },
   "file_extension": ".py",
   "mimetype": "text/x-python",
   "name": "python",
   "nbconvert_exporter": "python",
   "pygments_lexer": "ipython3",
   "version": "3.8.8"
  }
 },
 "nbformat": 4,
 "nbformat_minor": 4
}
