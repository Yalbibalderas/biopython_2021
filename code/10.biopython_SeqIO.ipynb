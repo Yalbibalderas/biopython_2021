{
 "cells": [
  {
   "cell_type": "markdown",
   "metadata": {},
   "source": [
    "## SeqIO\n",
    "\n",
    "**Bio.SeqIO** es una interfaz común entre los archivos de entrada y salida. Las secuencias recuperadas con esta interfaz son pasados a tu programa como objetos de SeqRecord. Bio.SeqIO puede también leer archivos de alineamientos y regresar cada registro como un objeto SeqRecord. Para recuperar un alineamiento como un objeto Alignment, puedes usar el módulo Bio.AlignIO. \n",
    "\n",
    "El método usado para leer secuencias es **parse(file_handle, format)**. Donde format puede ser \"fasta\", \"genbank\" u otro de los que aparecen aquí (https://biopython.org/wiki/SeqIO). Los elementos regresados por este generador son de tipo **SeqRecord**."
   ]
  },
  {
   "cell_type": "code",
   "execution_count": 1,
   "metadata": {},
   "outputs": [],
   "source": [
    "from Bio import SeqIO"
   ]
  },
  {
   "cell_type": "code",
   "execution_count": 2,
   "metadata": {},
   "outputs": [],
   "source": [
    "f_in = open('samples/a19.gp')"
   ]
  },
  {
   "cell_type": "code",
   "execution_count": 3,
   "metadata": {},
   "outputs": [
    {
     "data": {
      "text/plain": [
       "SeqRecord(seq=Seq('MGHHHHHHHHHHSSGHIDDDDKHMLEMDSTNVRSGMKSRKKKPKTTVIDDDDDC...FAS'), id='AAX78491.1', name='AAX78491', description='unknown [synthetic construct]', dbxrefs=[])"
      ]
     },
     "execution_count": 3,
     "metadata": {},
     "output_type": "execute_result"
    }
   ],
   "source": [
    "seq = SeqIO.parse(f_in, 'genbank')\n",
    "next(seq)"
   ]
  },
  {
   "cell_type": "markdown",
   "metadata": {},
   "source": [
    "A continuación se muestra como se puede leer un archivo con varias secuencias FASTA y mostrar el título y longitud de cada entrada."
   ]
  },
  {
   "cell_type": "code",
   "execution_count": 7,
   "metadata": {},
   "outputs": [
    {
     "name": "stdout",
     "output_type": "stream",
     "text": [
      "Name: Protein-X, size: 38\n",
      "Name: Protein-Y, size: 62\n",
      "Name: Protein-Z, size: 60\n"
     ]
    }
   ],
   "source": [
    "FILE_IN = 'samples/3seqs.fas'\n",
    "\n",
    "with open(FILE_IN) as fh:\n",
    "    for record in SeqIO.parse(fh, 'fasta'):\n",
    "        id_ = record.id\n",
    "        seq = record.seq\n",
    "        print('Name: {0}, size: {1}'.format(id_, len(seq)))"
   ]
  },
  {
   "cell_type": "markdown",
   "metadata": {},
   "source": [
    "SeqIO tiene un método para escribir secuencias: **write(iterable, file_handle, format)**. El primer parámetro que esta función toma es un objeto iterable con los objetos SeqRecords (e.g., una lista de objetos SeqRecord). El segundo parámetro es el archivo que será usado para escribir las secuencias. El argumento format trabaja como en **parse**."
   ]
  },
  {
   "cell_type": "code",
   "execution_count": 5,
   "metadata": {},
   "outputs": [],
   "source": [
    "from Bio.Seq import Seq\n",
    "from Bio.SeqRecord import SeqRecord"
   ]
  },
  {
   "cell_type": "code",
   "execution_count": 6,
   "metadata": {},
   "outputs": [],
   "source": [
    "with open('samples/NC2033.txt') as fh:\n",
    "    with open('output/NC2033.fasta', 'w') as f_out:\n",
    "        rawseq = fh.read().replace('\\n','')\n",
    "        record = (SeqRecord(Seq(rawseq), 'NC2033.txt','',''),)\n",
    "        SeqIO.write(record, f_out, 'fasta')"
   ]
  },
  {
   "cell_type": "code",
   "execution_count": null,
   "metadata": {},
   "outputs": [],
   "source": []
  }
 ],
 "metadata": {
  "kernelspec": {
   "display_name": "Python 3",
   "language": "python",
   "name": "python3"
  },
  "language_info": {
   "codemirror_mode": {
    "name": "ipython",
    "version": 3
   },
   "file_extension": ".py",
   "mimetype": "text/x-python",
   "name": "python",
   "nbconvert_exporter": "python",
   "pygments_lexer": "ipython3",
   "version": "3.8.8"
  }
 },
 "nbformat": 4,
 "nbformat_minor": 4
}
