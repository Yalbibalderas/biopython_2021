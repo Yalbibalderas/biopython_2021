{
 "cells": [
  {
   "cell_type": "markdown",
   "metadata": {},
   "source": [
    "# Práctica de Biopython\n",
    "\n",
    "Este es un ejemplo de una práctica anterior sin la última parte. Notar que para fines de demostración se utilizó el alineador clustal omega, sin embargo dicho alineador se utiliza para alineamientos múltiples. En el caso de ustedes, favor de utilizar alguno que sea para alinear solo un par de secuencias. \n",
    "\n",
    "El coronavirus SARS-CoV-2 tiene una proteína llamada spike (S), que es una glicoproteína tipo I que se encuentra en la superficie del virus y puede hacer contacto con la célula hospedera. SARS-CoV-2 es muy parecido al virus SARS-CoV, ambos coronavirus están relacionados y pertenecen al subgénero sarbecvirus de los Coronaviridae. \n",
    "\n",
    "Por otro lado, el gen ACE2 (Angiotensin-converting enzyme 2) es un gen del humano que ha llamado la atención recientemente porque promueve la entrada de SARS-CoV-2 en las células. Realizando una simulación estructural es posible identificar el contacto de ACE2 con la proteína S. De acuerdo con la literatura (https://www.ncbi.nlm.nih.gov/pmc/articles/PMC7102515/) los aminoácidos que hacen contacto con SARS-CoV son: Y442, L472, N479, D480, T487, Y491. Y los que hacen contacto con SARS-CoV-2 son: L455, F486, Q493, S494, N501 and Y505.\n",
    "\n",
    "\n",
    "El ejercicio consiste en:\n",
    "\n",
    "1. Obtener la secuencia de la proteína S del coronavirus SARS-CoV-2\n",
    "2. Obtener la proteína S del coronavirus SARS-CoV (NP_828851.1)\n",
    "3. Realizar el alineamiento de ambas proteínas\n",
    "4. Seleccionar únicamente la región del alineamiento que muestra estos residuos\n",
    "5. ¿Qué más se les ocurre que puedan hacer usando Biopython? \n",
    "\n",
    "La 2da parte no está por acá.\n",
    "\n",
    "\n"
   ]
  },
  {
   "cell_type": "code",
   "execution_count": 1,
   "metadata": {},
   "outputs": [],
   "source": [
    "from Bio.Align.Applications import ClustalOmegaCommandline"
   ]
  },
  {
   "cell_type": "code",
   "execution_count": 4,
   "metadata": {},
   "outputs": [],
   "source": [
    "in_file = 'samples/SARS-CoV_CoV2.fasta'\n",
    "out_file = 'output/SARS-aligned.fasta'"
   ]
  },
  {
   "cell_type": "code",
   "execution_count": 5,
   "metadata": {},
   "outputs": [
    {
     "name": "stdout",
     "output_type": "stream",
     "text": [
      "clustalo -i samples/SARS-CoV_CoV2.fasta -o output/SARS-aligned.fasta --auto -v\n"
     ]
    }
   ],
   "source": [
    "clustalomega_cline = ClustalOmegaCommandline(infile=in_file, outfile=out_file, verbose=True, auto=True)\n",
    "print(clustalomega_cline)"
   ]
  },
  {
   "cell_type": "code",
   "execution_count": 6,
   "metadata": {},
   "outputs": [
    {
     "name": "stdout",
     "output_type": "stream",
     "text": [
      "FATAL: Cowardly refusing to overwrite already existing file 'output/SARS-aligned.fasta'. Use --force to force overwriting.\n"
     ]
    }
   ],
   "source": [
    "!./clustalo -i samples/SARS-CoV_CoV2.fasta -o output/SARS-aligned.fasta --auto -v"
   ]
  },
  {
   "cell_type": "code",
   "execution_count": 7,
   "metadata": {},
   "outputs": [
    {
     "name": "stdout",
     "output_type": "stream",
     "text": [
      "Alignment with 2 rows and 1277 columns\n",
      "MFIFLLFLTLTSGSDLDRCTTFDDVQAPNYTQHTSSMRGVYYPD...HYT NP_828851.1\n",
      "MFVFLVLLPLVSSQCVNLTTR--TQLPPAYT--NSFTRGVYYPD...HYT YP_009724390.1\n"
     ]
    }
   ],
   "source": [
    "from Bio import AlignIO\n",
    "\n",
    "align = AlignIO.read(r'output/SARS-aligned.fasta', 'fasta')\n",
    "print(align)"
   ]
  },
  {
   "cell_type": "code",
   "execution_count": 9,
   "metadata": {},
   "outputs": [],
   "source": [
    "from Bio.Align.AlignInfo import SummaryInfo\n",
    "summary = SummaryInfo(align)"
   ]
  },
  {
   "cell_type": "code",
   "execution_count": 10,
   "metadata": {},
   "outputs": [
    {
     "name": "stdout",
     "output_type": "stream",
     "text": [
      "Alignment with 2 rows and 70 columns\n",
      "NTRNIDATSTGNYNYKYRYLRHGKLRPFERDISNVPFSPDGKPC...GYQ NP_828851.1\n",
      "NSNNLDSKVGGNYNYLYRLFRKSNLKPFERDISTEIYQAGSTPC...GYQ YP_009724390.1\n"
     ]
    }
   ],
   "source": [
    "print(align[:, 440:510]) # Toma la primera secuencia"
   ]
  },
  {
   "cell_type": "code",
   "execution_count": 11,
   "metadata": {},
   "outputs": [
    {
     "name": "stdout",
     "output_type": "stream",
     "text": [
      "Alignment with 1 rows and 70 columns\n",
      "NSNNLDSKVGGNYNYLYRLFRKSNLKPFERDISTEIYQAGSTPC...GYQ YP_009724390.1\n"
     ]
    }
   ],
   "source": [
    "print(align[1:, 440:510])"
   ]
  },
  {
   "cell_type": "code",
   "execution_count": 12,
   "metadata": {},
   "outputs": [],
   "source": [
    "with open('samples/SARS-CoV.fasta') as fp:\n",
    "    file1 = fp.read()\n",
    "with open('samples/SARS-CoV2.fasta') as fp:\n",
    "    file2 = fp.read()"
   ]
  },
  {
   "cell_type": "code",
   "execution_count": 13,
   "metadata": {},
   "outputs": [],
   "source": [
    "file1 += file2\n",
    "\n",
    "with open('samples/SARS-CoV-CoV2.fasta', 'w') as fp:\n",
    "    fp.write(file1)"
   ]
  },
  {
   "cell_type": "code",
   "execution_count": 14,
   "metadata": {},
   "outputs": [
    {
     "name": "stdout",
     "output_type": "stream",
     "text": [
      "clustalo -i \">NP_828851.1 E2 glycoprotein precursor [Severe acute respiratory syndrome-related coronavirus]\n",
      "MFIFLLFLTLTSGSDLDRCTTFDDVQAPNYTQHTSSMRGVYYPDEIFRSDTLYLTQDLFLPFYSNVTGFHTINHTFGNPV\n",
      "IPFKDGIYFAATEKSNVVRGWVFGSTMNNKSQSVIIINNSTNVVIRACNFELCDNPFFAVSKPMGTQTHTMIFDNAFNCT\n",
      "FEYISDAFSLDVSEKSGNFKHLREFVFKNKDGFLYVYKGYQPIDVVRDLPSGFNTLKPIFKLPLGINITNFRAILTAFSP\n",
      "AQDIWGTSAAAYFVGYLKPTTFMLKYDENGTITDAVDCSQNPLAELKCSVKSFEIDKGIYQTSNFRVVPSGDVVRFPNIT\n",
      "NLCPFGEVFNATKFPSVYAWERKKISNCVADYSVLYNSTFFSTFKCYGVSATKLNDLCFSNVYADSFVVKGDDVRQIAPG\n",
      "QTGVIADYNYKLPDDFMGCVLAWNTRNIDATSTGNYNYKYRYLRHGKLRPFERDISNVPFSPDGKPCTPPALNCYWPLND\n",
      "YGFYTTTGIGYQPYRVVVLSFELLNAPATVCGPKLSTDLIKNQCVNFNFNGLTGTGVLTPSSKRFQPFQQFGRDVSDFTD\n",
      "SVRDPKTSEILDISPCAFGGVSVITPGTNASSEVAVLYQDVNCTDVSTAIHADQLTPAWRIYSTGNNVFQTQAGCLIGAE\n",
      "HVDTSYECDIPIGAGICASYHTVSLLRSTSQKSIVAYTMSLGADSSIAYSNNTIAIPTNFSISITTEVMPVSMAKTSVDC\n",
      "NMYICGDSTECANLLLQYGSFCTQLNRALSGIAAEQDRNTREVFAQVKQMYKTPTLKYFGGFNFSQILPDPLKPTKRSFI\n",
      "EDLLFNKVTLADAGFMKQYGECLGDINARDLICAQKFNGLTVLPPLLTDDMIAAYTAALVSGTATAGWTFGAGAALQIPF\n",
      "AMQMAYRFNGIGVTQNVLYENQKQIANQFNKAISQIQESLTTTSTALGKLQDVVNQNAQALNTLVKQLSSNFGAISSVLN\n",
      "DILSRLDKVEAEVQIDRLITGRLQSLQTYVTQQLIRAAEIRASANLAATKMSECVLGQSKRVDFCGKGYHLMSFPQAAPH\n",
      "GVVFLHVTYVPSQERNFTTAPAICHEGKAYFPREGVFVFNGTSWFITQRNFFSPQIITTDNTFVSGNCDVVIGIINNTVY\n",
      "DPLQPELDSFKEELDKYFKNHTSPDVDLGDISGINASVVNIQKEIDRLNEVAKNLNESLIDLQELGKYEQYIKWPWYVWL\n",
      "GFIAGLIAIVMVTILLCCMTSCCSCLKGACSCGSCCKFDEDDSEPVLKGVKLHYT\n",
      "\n",
      ">YP_009724390.1 surface glycoprotein [Severe acute respiratory syndrome coronavirus 2]\n",
      "MFVFLVLLPLVSSQCVNLTTRTQLPPAYTNSFTRGVYYPDKVFRSSVLHSTQDLFLPFFSNVTWFHAIHV\n",
      "SGTNGTKRFDNPVLPFNDGVYFASTEKSNIIRGWIFGTTLDSKTQSLLIVNNATNVVIKVCEFQFCNDPF\n",
      "LGVYYHKNNKSWMESEFRVYSSANNCTFEYVSQPFLMDLEGKQGNFKNLREFVFKNIDGYFKIYSKHTPI\n",
      "NLVRDLPQGFSALEPLVDLPIGINITRFQTLLALHRSYLTPGDSSSGWTAGAAAYYVGYLQPRTFLLKYN\n",
      "ENGTITDAVDCALDPLSETKCTLKSFTVEKGIYQTSNFRVQPTESIVRFPNITNLCPFGEVFNATRFASV\n",
      "YAWNRKRISNCVADYSVLYNSASFSTFKCYGVSPTKLNDLCFTNVYADSFVIRGDEVRQIAPGQTGKIAD\n",
      "YNYKLPDDFTGCVIAWNSNNLDSKVGGNYNYLYRLFRKSNLKPFERDISTEIYQAGSTPCNGVEGFNCYF\n",
      "PLQSYGFQPTNGVGYQPYRVVVLSFELLHAPATVCGPKKSTNLVKNKCVNFNFNGLTGTGVLTESNKKFL\n",
      "PFQQFGRDIADTTDAVRDPQTLEILDITPCSFGGVSVITPGTNTSNQVAVLYQDVNCTEVPVAIHADQLT\n",
      "PTWRVYSTGSNVFQTRAGCLIGAEHVNNSYECDIPIGAGICASYQTQTNSPRRARSVASQSIIAYTMSLG\n",
      "AENSVAYSNNSIAIPTNFTISVTTEILPVSMTKTSVDCTMYICGDSTECSNLLLQYGSFCTQLNRALTGI\n",
      "AVEQDKNTQEVFAQVKQIYKTPPIKDFGGFNFSQILPDPSKPSKRSFIEDLLFNKVTLADAGFIKQYGDC\n",
      "LGDIAARDLICAQKFNGLTVLPPLLTDEMIAQYTSALLAGTITSGWTFGAGAALQIPFAMQMAYRFNGIG\n",
      "VTQNVLYENQKLIANQFNSAIGKIQDSLSSTASALGKLQDVVNQNAQALNTLVKQLSSNFGAISSVLNDI\n",
      "LSRLDKVEAEVQIDRLITGRLQSLQTYVTQQLIRAAEIRASANLAATKMSECVLGQSKRVDFCGKGYHLM\n",
      "SFPQSAPHGVVFLHVTYVPAQEKNFTTAPAICHDGKAHFPREGVFVSNGTHWFVTQRNFYEPQIITTDNT\n",
      "FVSGNCDVVIGIVNNTVYDPLQPELDSFKEELDKYFKNHTSPDVDLGDISGINASVVNIQKEIDRLNEVA\n",
      "KNLNESLIDLQELGKYEQYIKWPWYIWLGFIAGLIAIVMVTIMLCCMTSCCSCLKGCCSCGSCCKFDEDD\n",
      "SEPVLKGVKLHYT\n",
      "\n",
      "\" -o output/SARS-aligned.fasta --auto -v\n"
     ]
    }
   ],
   "source": [
    "clustalomega_cline = ClustalOmegaCommandline(infile=file1, outfile=out_file, verbose=True, auto=True)\n",
    "print(clustalomega_cline)"
   ]
  },
  {
   "cell_type": "code",
   "execution_count": null,
   "metadata": {},
   "outputs": [],
   "source": []
  }
 ],
 "metadata": {
  "kernelspec": {
   "display_name": "Python 3",
   "language": "python",
   "name": "python3"
  },
  "language_info": {
   "codemirror_mode": {
    "name": "ipython",
    "version": 3
   },
   "file_extension": ".py",
   "mimetype": "text/x-python",
   "name": "python",
   "nbconvert_exporter": "python",
   "pygments_lexer": "ipython3",
   "version": "3.8.8"
  }
 },
 "nbformat": 4,
 "nbformat_minor": 4
}
