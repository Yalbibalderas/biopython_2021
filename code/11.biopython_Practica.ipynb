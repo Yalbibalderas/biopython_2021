{
 "cells": [
  {
   "cell_type": "markdown",
   "metadata": {},
   "source": [
    "# Práctica de Biopython para integrar todos los temas vistos anteriormente\n",
    "\n",
    "A continuación se integrarán en parejas para realizar la siguiente práctica.\n",
    "\n",
    "El coronavirus SARS-CoV-2 tiene una proteína llamada spike (S), que es una glicoproteína tipo I que se encuentra en la superficie del virus y puede hacer contacto con la célula hospedera. Nos interesa conocer qué tan parecida es esta secuencia con el virus SARS-CoV. Ambos coronavirus, SARS-CoV-2 y SARS-CoV están relacionados y pertenecen al subgénero sarbecvirus de los Coronaviridae, entonces se espera que dichos virus sean muy parecidos. \n",
    "\n",
    "Por otro lado, el gen ACE2 (Angiotensin-converting enzyme 2) es un gen del humano que ha llamado la atención recientemente porque promueve la entrada de SARS-CoV-2 en las células. Realizando una simulación estructural es posible identificar el contacto de ACE2 con la proteína S. De acuerdo con la literatura (https://www.ncbi.nlm.nih.gov/pmc/articles/PMC7102515/) los aminoácidos que hacen contacto con SARS-CoV son: Y442, L472, N479, D480, T487, Y491. Y los que hacen contacto con SARS-CoV-2 son: L455, F486, Q493, S494, N501 and Y505.\n",
    "\n",
    "\n",
    "El ejercicio consiste en:\n",
    "\n",
    "1. Obtener la secuencia de la proteína S del coronavirus SARS-CoV-2\n",
    "2. Obtener la proteína S del coronavirus SARS-CoV (YP_009825051.1)\n",
    "3. Realizar el alineamiento de ambas proteínas S vía web en la página: https://www.ebi.ac.uk/Tools/psa/ - prueba varios tipos de alineamientos y observa las diferencias \n",
    "4. Ahora selecciona únicamente la región del alineamiento que muestra los residuos y realiza un blast vía web - ¿Qué tipo de blast es el que debes hacer? ¿Qué opción nos ayudaría a eliminar las secuencias de los SARS-CoV2 que se secuenciaron el año pasado?\n",
    "\n",
    "La Dra. Li-Meng Yan propuso que había 3 líneas de evidencia para decir que el virus Sars-CoV-2 fue manipulado, dichas fueron:\n",
    "\n",
    "1. Que la secuencia del virus SARS-CoV-2 era muy similar a otros coronavirus, en particular con el de los laboratorios militares. \n",
    "2. Que el motivo de unión del receptor (RBM) de la proteína Spike, que es la que determina la especificidad del virus, se parece a la del SARS-CoV del 2003.\n",
    "3. Que el SARS-CoV-2 tiene un sitio único de furina y que está ausente en otros coronavirus encontrados en la naturaleza (cabe mencionar que el artículo de Yan está delimitado al estudio de 4 virus que son los que está presentando en los alineamientos de las figuras). ¿Los coronavirus solo pueden ser los SARS-CoV? ¿Qué nos dicen las bases de datos de virus? Revisar: https://talk.ictvonline.org/files/master-species-lists/\n",
    "y para tener una visión ampliada se podría consultar la literatura,\n",
    "https://www.nature.com/articles/s41564-020-0695-z.pdf\n",
    "\n",
    "¿Con lo que has aprendido qué harías para afirmar/refutar dichas aseveraciones?\n",
    "\n",
    "\n",
    "\n"
   ]
  },
  {
   "cell_type": "code",
   "execution_count": null,
   "metadata": {},
   "outputs": [],
   "source": []
  }
 ],
 "metadata": {
  "kernelspec": {
   "display_name": "Python 3",
   "language": "python",
   "name": "python3"
  },
  "language_info": {
   "codemirror_mode": {
    "name": "ipython",
    "version": 3
   },
   "file_extension": ".py",
   "mimetype": "text/x-python",
   "name": "python",
   "nbconvert_exporter": "python",
   "pygments_lexer": "ipython3",
   "version": "3.8.8"
  }
 },
 "nbformat": 4,
 "nbformat_minor": 4
}
