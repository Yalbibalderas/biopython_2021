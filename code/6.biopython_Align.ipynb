{
 "cells": [
  {
   "cell_type": "markdown",
   "metadata": {},
   "source": [
    "## Align\n",
    "\n",
    "El módulo **Align** contiene código para manipular alineamientos. El objeto central de este módulo es la clase **MultipleSeqAlignment**. Este objeto almacena los alineamientos de secuencias. No es para hacer alineamientos, sino para almacenar las secuencias que ya han sido alineadas. \n",
    "\n",
    "Por ejemplo supongamos que tenemos un alineamiento sencillo de dos péptidos pequeños:\n",
    "\n",
    "![seqalign](figures/alignment.png)\n"
   ]
  },
  {
   "cell_type": "markdown",
   "metadata": {},
   "source": [
    "Este alineamiento lo podemos guardar en Biopython de la siguiente manera:"
   ]
  },
  {
   "cell_type": "code",
   "execution_count": 2,
   "metadata": {},
   "outputs": [],
   "source": [
    "from Bio.Align import MultipleSeqAlignment\n",
    "from Bio.Seq import Seq\n",
    "from Bio.SeqRecord import SeqRecord"
   ]
  },
  {
   "cell_type": "code",
   "execution_count": 5,
   "metadata": {},
   "outputs": [],
   "source": [
    "seq1 = 'MHQAIFIYQIGYPLKSGYIQSIRSPEYDNW'\n",
    "seq2 = 'MH--IFIYQIGYALKSGYIQSIRSPEY-NW'"
   ]
  },
  {
   "cell_type": "code",
   "execution_count": 7,
   "metadata": {},
   "outputs": [],
   "source": [
    "seq_rec_1 = SeqRecord(Seq(seq1), id='asp')"
   ]
  },
  {
   "cell_type": "code",
   "execution_count": 8,
   "metadata": {},
   "outputs": [
    {
     "name": "stdout",
     "output_type": "stream",
     "text": [
      "ID: unk\n",
      "Name: <unknown name>\n",
      "Description: <unknown description>\n",
      "Number of features: 0\n",
      "Seq('MH--IFIYQIGYALKSGYIQSIRSPEY-NW')\n"
     ]
    }
   ],
   "source": [
    "seq_rec_2 = SeqRecord(Seq(seq2), id='unk')\n",
    "print(seq_rec_2)"
   ]
  },
  {
   "cell_type": "code",
   "execution_count": 9,
   "metadata": {},
   "outputs": [
    {
     "name": "stdout",
     "output_type": "stream",
     "text": [
      "Alignment with 2 rows and 30 columns\n",
      "MHQAIFIYQIGYPLKSGYIQSIRSPEYDNW asp\n",
      "MH--IFIYQIGYALKSGYIQSIRSPEY-NW unk\n"
     ]
    }
   ],
   "source": [
    "align = MultipleSeqAlignment([seq_rec_1, seq_rec_2])\n",
    "print(align)"
   ]
  },
  {
   "cell_type": "markdown",
   "metadata": {},
   "source": [
    "La clase **MultipleSeqAlignment** es instanciada en la variable align. align es el nombre del objeto MultipleSeqAlignment. Ambas secuencias son añadidas en la inicialización del objeto MultipleSeqAlignment como objetos SeqRecord. \n",
    "\n",
    "**MultipleSeqAlignment** puede ser tratado como una lista de secuencias (u objetos SeqRecord), comparte algunos de sus métodos. Para añadir una nueva secuencia al alineamiento usa **append** y para añadir secuencias múltiples soporta **extend**."
   ]
  },
  {
   "cell_type": "code",
   "execution_count": 11,
   "metadata": {},
   "outputs": [
    {
     "name": "stdout",
     "output_type": "stream",
     "text": [
      "ID: cas\n",
      "Name: <unknown name>\n",
      "Description: <unknown description>\n",
      "Number of features: 0\n",
      "Seq('M---IFIYQIGYAAKSGYIQSIRSPEY--W')\n"
     ]
    }
   ],
   "source": [
    "seq3 = 'M---IFIYQIGYAAKSGYIQSIRSPEY--W'\n",
    "seq_rec_3 = SeqRecord(Seq(seq3), id='cas')\n",
    "print(seq_rec_3)"
   ]
  },
  {
   "cell_type": "code",
   "execution_count": 12,
   "metadata": {},
   "outputs": [
    {
     "name": "stdout",
     "output_type": "stream",
     "text": [
      "Alignment with 3 rows and 30 columns\n",
      "MHQAIFIYQIGYPLKSGYIQSIRSPEYDNW asp\n",
      "MH--IFIYQIGYALKSGYIQSIRSPEY-NW unk\n",
      "M---IFIYQIGYAAKSGYIQSIRSPEY--W cas\n"
     ]
    }
   ],
   "source": [
    "align.append(seq_rec_3)\n",
    "print(align)"
   ]
  },
  {
   "cell_type": "markdown",
   "metadata": {},
   "source": [
    "Los nuevos objetos **SeqRecord** deben tener la misma longitud que el alineamiento original, y tener alfabetos compatibles con el alfabeto del alineamiento. \n",
    "Otra propiedad en común con las listas es que puedes obtener un elemento (una fila, o un objeto SeqRecord) usando índices enteros."
   ]
  },
  {
   "cell_type": "code",
   "execution_count": 13,
   "metadata": {},
   "outputs": [
    {
     "data": {
      "text/plain": [
       "SeqRecord(seq=Seq('MHQAIFIYQIGYPLKSGYIQSIRSPEYDNW'), id='asp', name='<unknown name>', description='<unknown description>', dbxrefs=[])"
      ]
     },
     "execution_count": 13,
     "metadata": {},
     "output_type": "execute_result"
    }
   ],
   "source": [
    "align[0]"
   ]
  },
  {
   "cell_type": "markdown",
   "metadata": {},
   "source": [
    "También pueden obtener sub-alineamientos:"
   ]
  },
  {
   "cell_type": "code",
   "execution_count": 14,
   "metadata": {},
   "outputs": [
    {
     "name": "stdout",
     "output_type": "stream",
     "text": [
      "Alignment with 2 rows and 6 columns\n",
      "FIYQIG asp\n",
      "FIYQIG unk\n"
     ]
    }
   ],
   "source": [
    "print(align[:2,5:11])"
   ]
  },
  {
   "cell_type": "code",
   "execution_count": 15,
   "metadata": {},
   "outputs": [
    {
     "data": {
      "text/plain": [
       "3"
      ]
     },
     "execution_count": 15,
     "metadata": {},
     "output_type": "execute_result"
    }
   ],
   "source": [
    "len(align)"
   ]
  },
  {
   "cell_type": "markdown",
   "metadata": {},
   "source": [
    "También soporta iteración sobre todos sus elementos, y regresa un objeto SeqRecord para cada secuencia. \n",
    "El siguiente código calcula el punto isoeléctrico de cada secuencia en el alineamiento:"
   ]
  },
  {
   "cell_type": "code",
   "execution_count": 16,
   "metadata": {},
   "outputs": [],
   "source": [
    "from Bio.SeqUtils.ProtParam import ProteinAnalysis"
   ]
  },
  {
   "cell_type": "code",
   "execution_count": 17,
   "metadata": {},
   "outputs": [
    {
     "name": "stdout",
     "output_type": "stream",
     "text": [
      "6.504165458679199\n",
      "8.160295295715333\n",
      "8.13856945037842\n"
     ]
    }
   ],
   "source": [
    "for seq in align:\n",
    "    print(ProteinAnalysis(str(seq.seq)).isoelectric_point())"
   ]
  },
  {
   "cell_type": "code",
   "execution_count": 18,
   "metadata": {},
   "outputs": [
    {
     "data": {
      "text/plain": [
       "['__add__',\n",
       " '__class__',\n",
       " '__delattr__',\n",
       " '__dict__',\n",
       " '__dir__',\n",
       " '__doc__',\n",
       " '__eq__',\n",
       " '__format__',\n",
       " '__ge__',\n",
       " '__getattribute__',\n",
       " '__getitem__',\n",
       " '__gt__',\n",
       " '__hash__',\n",
       " '__init__',\n",
       " '__init_subclass__',\n",
       " '__iter__',\n",
       " '__le__',\n",
       " '__len__',\n",
       " '__lt__',\n",
       " '__module__',\n",
       " '__ne__',\n",
       " '__new__',\n",
       " '__reduce__',\n",
       " '__reduce_ex__',\n",
       " '__repr__',\n",
       " '__setattr__',\n",
       " '__sizeof__',\n",
       " '__str__',\n",
       " '__subclasshook__',\n",
       " '__weakref__',\n",
       " '_append',\n",
       " '_get_per_column_annotations',\n",
       " '_per_col_annotations',\n",
       " '_records',\n",
       " '_set_per_column_annotations',\n",
       " '_str_line',\n",
       " 'add_sequence',\n",
       " 'annotations',\n",
       " 'append',\n",
       " 'column_annotations',\n",
       " 'extend',\n",
       " 'format',\n",
       " 'get_alignment_length',\n",
       " 'sort',\n",
       " 'substitutions']"
      ]
     },
     "execution_count": 18,
     "metadata": {},
     "output_type": "execute_result"
    }
   ],
   "source": [
    "dir(align)"
   ]
  },
  {
   "cell_type": "code",
   "execution_count": null,
   "metadata": {},
   "outputs": [],
   "source": []
  }
 ],
 "metadata": {
  "kernelspec": {
   "display_name": "Python 3",
   "language": "python",
   "name": "python3"
  },
  "language_info": {
   "codemirror_mode": {
    "name": "ipython",
    "version": 3
   },
   "file_extension": ".py",
   "mimetype": "text/x-python",
   "name": "python",
   "nbconvert_exporter": "python",
   "pygments_lexer": "ipython3",
   "version": "3.8.8"
  }
 },
 "nbformat": 4,
 "nbformat_minor": 4
}
