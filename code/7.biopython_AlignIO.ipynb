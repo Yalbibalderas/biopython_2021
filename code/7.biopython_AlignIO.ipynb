{
 "cells": [
  {
   "cell_type": "markdown",
   "metadata": {},
   "source": [
    "## AlignIO\n",
    "\n",
    "Para leer un archivo con un alineamiento, puedes usar **AlignIO.read()**. Requiere dos parámetros: el nombre del archivo y el formato del alineamiento. Formatos válidos son clustal, fasta, fasta-m10, ig, maf, nexus, phylip, phylip-sequential, phylip-relaxed y stockholm. El método **AlignIO.read()** regresa un objeto **Multiple-SeqAlignment**. "
   ]
  },
  {
   "cell_type": "code",
   "execution_count": 1,
   "metadata": {},
   "outputs": [],
   "source": [
    "from Bio import AlignIO"
   ]
  },
  {
   "cell_type": "code",
   "execution_count": 2,
   "metadata": {},
   "outputs": [
    {
     "name": "stdout",
     "output_type": "stream",
     "text": [
      "Alignment with 8 rows and 1407 columns\n",
      "MDKKYSIGLDIGTNSVGWAVITDDYKVPSKKFKVLGNTDRHSIK...GGD J7M7J1\n",
      "MDKKYSIGLDIGTNSVGWAVITDDYKVPSKKFKVLGNTDRHSIK...GGD A0A0C6FZC2\n",
      "MDKKYSIGLDIGTNSVGWAVITDDYKVPSKKFKVLGNTDRHSIK...GGD A0A1C2CVQ9\n",
      "MDKKYSIGLDIGTNSVGWAVITDDYKVPSKKFKVLGNTDRHSIK...GGD A0A1C2CV43\n",
      "MDKKYSIGLDIGTNSVGWAVITDDYKVPSKKFKVLGNTDRHSIK...GGD Q48TU5\n",
      "MDKKYSIGLDIGTNSVGWAVITDDYKVPSKKFKVLGNTDRHSIK...GGD M4YX12\n",
      "MKKPYSIGLDIGTNSVGWAVVTDDYKVPAKKMKVLGNTDKSHIK...GGD A0A0E2EP65\n",
      "--------------------------------------------...GED A0A150NVN1\n"
     ]
    }
   ],
   "source": [
    "align = AlignIO.read(r'samples/cas9align.fasta', 'fasta')\n",
    "print(align)"
   ]
  },
  {
   "cell_type": "markdown",
   "metadata": {},
   "source": [
    "Para leer archivos con más de un alineamiento, usa **AlignIO.parse()**. Toma los mismos argumentos que **AlignIO.read()**, y regresa un iterador con todos los alineamientos presentes en este archivo. Está pensado para ser usado en un loop."
   ]
  },
  {
   "cell_type": "code",
   "execution_count": 3,
   "metadata": {},
   "outputs": [
    {
     "name": "stdout",
     "output_type": "stream",
     "text": [
      "Alignment of length 2122\n"
     ]
    }
   ],
   "source": [
    "for alignment in AlignIO.parse('samples/example.aln', 'clustal'):\n",
    "    #print(len(alignment))\n",
    "    print(\"Alignment of length %i\" % alignment.get_alignment_length())\n"
   ]
  },
  {
   "cell_type": "markdown",
   "metadata": {},
   "source": [
    "Para guardar un alineamiento en disco, usa **AlignIO.write()**. Este método require como primer parámetro el objeto **MultipleSeqAlignment**, después requiere los mismos dos parámetros que en **AlignIO.read()** (el nombre del archivo y el formato). El méotodo **AlignIO.write()** regresa el número de alineamientos guardados."
   ]
  },
  {
   "cell_type": "code",
   "execution_count": 4,
   "metadata": {},
   "outputs": [
    {
     "data": {
      "text/plain": [
       "1"
      ]
     },
     "execution_count": 4,
     "metadata": {},
     "output_type": "execute_result"
    }
   ],
   "source": [
    "AlignIO.write(align, 'output/cas9a1.phy', 'phylip')"
   ]
  },
  {
   "cell_type": "markdown",
   "metadata": {},
   "source": [
    "Existe una función helper que convierte los alineamientos en un solo paso: **AlignIO.convert()**. Toma cuatro parámetros: el nombre del archivo a leer, el formato del archivo a leer, el nombre del archivo a escribir y el formato del archivo a escribir. También regresa el número de alineamientos guardados."
   ]
  },
  {
   "cell_type": "code",
   "execution_count": 5,
   "metadata": {},
   "outputs": [
    {
     "data": {
      "text/plain": [
       "1"
      ]
     },
     "execution_count": 5,
     "metadata": {},
     "output_type": "execute_result"
    }
   ],
   "source": [
    "AlignIO.convert('samples/cas9align.fasta', 'fasta', 'output/cas9a1.aln', 'clustal')"
   ]
  },
  {
   "cell_type": "code",
   "execution_count": null,
   "metadata": {},
   "outputs": [],
   "source": []
  },
  {
   "cell_type": "code",
   "execution_count": null,
   "metadata": {},
   "outputs": [],
   "source": []
  }
 ],
 "metadata": {
  "kernelspec": {
   "display_name": "Python 3",
   "language": "python",
   "name": "python3"
  },
  "language_info": {
   "codemirror_mode": {
    "name": "ipython",
    "version": 3
   },
   "file_extension": ".py",
   "mimetype": "text/x-python",
   "name": "python",
   "nbconvert_exporter": "python",
   "pygments_lexer": "ipython3",
   "version": "3.8.8"
  }
 },
 "nbformat": 4,
 "nbformat_minor": 4
}
