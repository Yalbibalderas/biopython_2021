{
 "cells": [
  {
   "cell_type": "markdown",
   "metadata": {},
   "source": [
    "## Clustal Omega\n",
    "\n",
    "Este módulo tiene clases y funciones para interactuar con Clustal Omega (http://www.clustal.org/omega/).\n",
    "Clustal Omega es la última adición en la familia Clustal. Ofrece más escalabilidad que las versiones previas\n",
    "alineando de cientos a miles de secuencias en unas cuantas horas. Biopython lo soporta con el wraper **ClustalOmegaCommandline**."
   ]
  },
  {
   "cell_type": "code",
   "execution_count": 1,
   "metadata": {},
   "outputs": [],
   "source": [
    "from Bio.Align.Applications import ClustalOmegaCommandline"
   ]
  },
  {
   "cell_type": "code",
   "execution_count": 2,
   "metadata": {},
   "outputs": [
    {
     "name": "stdout",
     "output_type": "stream",
     "text": [
      "clustalo -i samples/3seqs.fas -o output/aligned.fasta --auto -v\n"
     ]
    }
   ],
   "source": [
    "in_file = 'samples/3seqs.fas'\n",
    "out_file = 'output/aligned.fasta'\n",
    "\n",
    "clustalomega_cline = ClustalOmegaCommandline(infile=in_file, outfile=out_file, verbose=True, auto=True)\n",
    "print(clustalomega_cline)\n"
   ]
  },
  {
   "cell_type": "markdown",
   "metadata": {},
   "source": [
    "Esto podemos usarlo para correrlo en la terminal, para esto será necesario ir a la página http://www.clustal.org/omega/, y descargar la versión de clustal omega dependiendo de las características de su sistema operativo. Clustalo sería el nombre del archivo ejecutable.\n",
    "\n",
    "./clustalo -i /samples/3seqs.fas -o /output/aligned.fasta --auto -v"
   ]
  },
  {
   "cell_type": "code",
   "execution_count": 4,
   "metadata": {},
   "outputs": [
    {
     "name": "stdout",
     "output_type": "stream",
     "text": [
      "Using 8 threads\n",
      "Read 3 sequences (type: Protein) from samples/3seqs.fas\n",
      "not more sequences (3) than cluster-size (100), turn off mBed\n",
      "Setting options automatically based on input sequence characteristics (might overwrite some of your options).\n",
      "Auto settings: Enabling mBed.\n",
      "Auto settings: Setting iteration to 1.\n",
      "Using 2 seeds (chosen with constant stride from length sorted seqs) for mBed (from a total of 3 sequences)\n",
      "Calculating pairwise ktuple-distances...\n",
      "Ktuple-distance calculation progress done. CPU time: 0.00u 0.00s 00:00:00.00 Elapsed: 00:00:00\n",
      "mBed created 1 cluster/s (with a minimum of 1 and a soft maximum of 100 sequences each)\n",
      "Distance calculation within sub-clusters done. CPU time: 0.01u 0.00s 00:00:00.01 Elapsed: 00:00:00\n",
      "Guide-tree computation (mBed) done.\n",
      "Progressive alignment progress done. CPU time: 0.00u 0.01s 00:00:00.01 Elapsed: 00:00:00\n",
      "Iteration step 1 out of 1\n",
      "Computing new guide tree (iteration step 0)\n",
      "Calculating pairwise aligned identity distances...\n",
      "Pairwise identity calculation progress done. CPU time: 0.00u 0.00s 00:00:00.00 Elapsed: 00:00:00\n",
      "Guide-tree computation done.\n",
      "Computing HMM from alignment\n",
      "Progressive alignment progress done. CPU time: 0.02u 0.01s 00:00:00.03 Elapsed: 00:00:00\n",
      "Alignment written to output/aligned.fasta\n"
     ]
    }
   ],
   "source": [
    "!./clustalo -i samples/3seqs.fas -o output/aligned.fasta --auto -v"
   ]
  },
  {
   "cell_type": "code",
   "execution_count": 11,
   "metadata": {},
   "outputs": [],
   "source": []
  }
 ],
 "metadata": {
  "kernelspec": {
   "display_name": "Python 3",
   "language": "python",
   "name": "python3"
  },
  "language_info": {
   "codemirror_mode": {
    "name": "ipython",
    "version": 3
   },
   "file_extension": ".py",
   "mimetype": "text/x-python",
   "name": "python",
   "nbconvert_exporter": "python",
   "pygments_lexer": "ipython3",
   "version": "3.8.8"
  }
 },
 "nbformat": 4,
 "nbformat_minor": 4
}
